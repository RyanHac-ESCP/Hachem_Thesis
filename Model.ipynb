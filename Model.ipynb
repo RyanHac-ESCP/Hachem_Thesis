{
 "cells": [
  {
   "cell_type": "markdown",
   "metadata": {
    "id": "uQ1PEp0h-XAT"
   },
   "source": [
    "# Loading the dataset"
   ]
  },
  {
   "cell_type": "code",
   "execution_count": 3,
   "metadata": {
    "id": "J-9exwT4-Rlh"
   },
   "outputs": [],
   "source": [
    "import pandas as pd\n",
    "\n",
    "# Load the CSV file named \"df.csv\"\n",
    "df = pd.read_csv('df.csv')"
   ]
  },
  {
   "cell_type": "markdown",
   "metadata": {
    "id": "48WIT9ui-bm2"
   },
   "source": [
    "# Treating the data"
   ]
  },
  {
   "cell_type": "code",
   "execution_count": 6,
   "metadata": {
    "id": "xowxTW5bGo9o",
    "outputId": "d728308b-bcf8-4ab3-eb13-b351224a6c87"
   },
   "outputs": [
    {
     "name": "stdout",
     "output_type": "stream",
     "text": [
      "Final dataset shape after PCA: (6257, 311)\n"
     ]
    },
    {
     "data": {
      "text/html": [
       "<div>\n",
       "<style scoped>\n",
       "    .dataframe tbody tr th:only-of-type {\n",
       "        vertical-align: middle;\n",
       "    }\n",
       "\n",
       "    .dataframe tbody tr th {\n",
       "        vertical-align: top;\n",
       "    }\n",
       "\n",
       "    .dataframe thead th {\n",
       "        text-align: right;\n",
       "    }\n",
       "</style>\n",
       "<table border=\"1\" class=\"dataframe\">\n",
       "  <thead>\n",
       "    <tr style=\"text-align: right;\">\n",
       "      <th></th>\n",
       "      <th>0</th>\n",
       "      <th>1</th>\n",
       "      <th>2</th>\n",
       "      <th>3</th>\n",
       "      <th>4</th>\n",
       "      <th>5</th>\n",
       "      <th>6</th>\n",
       "      <th>7</th>\n",
       "      <th>8</th>\n",
       "      <th>9</th>\n",
       "      <th>...</th>\n",
       "      <th>301</th>\n",
       "      <th>302</th>\n",
       "      <th>303</th>\n",
       "      <th>304</th>\n",
       "      <th>305</th>\n",
       "      <th>306</th>\n",
       "      <th>307</th>\n",
       "      <th>308</th>\n",
       "      <th>309</th>\n",
       "      <th>310</th>\n",
       "    </tr>\n",
       "  </thead>\n",
       "  <tbody>\n",
       "    <tr>\n",
       "      <th>0</th>\n",
       "      <td>-0.089229</td>\n",
       "      <td>3.055900</td>\n",
       "      <td>-0.394141</td>\n",
       "      <td>-0.923423</td>\n",
       "      <td>19.908321</td>\n",
       "      <td>-30.024433</td>\n",
       "      <td>-1.419138</td>\n",
       "      <td>12.154662</td>\n",
       "      <td>16.755027</td>\n",
       "      <td>0.764835</td>\n",
       "      <td>...</td>\n",
       "      <td>0.537810</td>\n",
       "      <td>-0.049495</td>\n",
       "      <td>0.945917</td>\n",
       "      <td>-2.332954</td>\n",
       "      <td>0.017110</td>\n",
       "      <td>0.733407</td>\n",
       "      <td>-0.336267</td>\n",
       "      <td>-0.811372</td>\n",
       "      <td>1.765557</td>\n",
       "      <td>-0.025870</td>\n",
       "    </tr>\n",
       "    <tr>\n",
       "      <th>1</th>\n",
       "      <td>-0.731735</td>\n",
       "      <td>2.325997</td>\n",
       "      <td>-0.245937</td>\n",
       "      <td>-0.086478</td>\n",
       "      <td>-1.788312</td>\n",
       "      <td>2.924241</td>\n",
       "      <td>0.082150</td>\n",
       "      <td>0.211213</td>\n",
       "      <td>-1.228307</td>\n",
       "      <td>-0.076727</td>\n",
       "      <td>...</td>\n",
       "      <td>0.233866</td>\n",
       "      <td>0.641584</td>\n",
       "      <td>0.631903</td>\n",
       "      <td>-1.457947</td>\n",
       "      <td>-0.046262</td>\n",
       "      <td>-1.467192</td>\n",
       "      <td>0.223462</td>\n",
       "      <td>-0.711114</td>\n",
       "      <td>-0.535866</td>\n",
       "      <td>0.991526</td>\n",
       "    </tr>\n",
       "    <tr>\n",
       "      <th>2</th>\n",
       "      <td>0.701055</td>\n",
       "      <td>1.279995</td>\n",
       "      <td>-0.053919</td>\n",
       "      <td>2.187264</td>\n",
       "      <td>25.911539</td>\n",
       "      <td>-31.229731</td>\n",
       "      <td>-3.380697</td>\n",
       "      <td>-11.880817</td>\n",
       "      <td>4.536021</td>\n",
       "      <td>-3.776145</td>\n",
       "      <td>...</td>\n",
       "      <td>-1.017505</td>\n",
       "      <td>2.772762</td>\n",
       "      <td>0.274460</td>\n",
       "      <td>1.126914</td>\n",
       "      <td>-0.668509</td>\n",
       "      <td>1.214713</td>\n",
       "      <td>2.862476</td>\n",
       "      <td>2.011246</td>\n",
       "      <td>2.353129</td>\n",
       "      <td>0.780306</td>\n",
       "    </tr>\n",
       "    <tr>\n",
       "      <th>3</th>\n",
       "      <td>5.063613</td>\n",
       "      <td>-8.899640</td>\n",
       "      <td>-0.286164</td>\n",
       "      <td>-0.808732</td>\n",
       "      <td>30.561328</td>\n",
       "      <td>-42.384036</td>\n",
       "      <td>-2.556172</td>\n",
       "      <td>-7.618732</td>\n",
       "      <td>-5.446131</td>\n",
       "      <td>-1.703818</td>\n",
       "      <td>...</td>\n",
       "      <td>1.318081</td>\n",
       "      <td>-2.260903</td>\n",
       "      <td>-1.992492</td>\n",
       "      <td>-0.449539</td>\n",
       "      <td>1.144723</td>\n",
       "      <td>-0.227496</td>\n",
       "      <td>0.527426</td>\n",
       "      <td>0.518652</td>\n",
       "      <td>-3.330204</td>\n",
       "      <td>2.343072</td>\n",
       "    </tr>\n",
       "    <tr>\n",
       "      <th>4</th>\n",
       "      <td>-0.625208</td>\n",
       "      <td>2.688715</td>\n",
       "      <td>-0.384554</td>\n",
       "      <td>-0.324846</td>\n",
       "      <td>14.531506</td>\n",
       "      <td>-22.985738</td>\n",
       "      <td>1.672376</td>\n",
       "      <td>6.637964</td>\n",
       "      <td>14.667959</td>\n",
       "      <td>-1.481917</td>\n",
       "      <td>...</td>\n",
       "      <td>1.543386</td>\n",
       "      <td>1.841896</td>\n",
       "      <td>0.136482</td>\n",
       "      <td>1.855406</td>\n",
       "      <td>-1.627835</td>\n",
       "      <td>0.446192</td>\n",
       "      <td>1.732926</td>\n",
       "      <td>-1.589598</td>\n",
       "      <td>-0.591008</td>\n",
       "      <td>-0.925844</td>\n",
       "    </tr>\n",
       "  </tbody>\n",
       "</table>\n",
       "<p>5 rows × 311 columns</p>\n",
       "</div>"
      ],
      "text/plain": [
       "        0         1         2         3          4          5         6    \\\n",
       "0 -0.089229  3.055900 -0.394141 -0.923423  19.908321 -30.024433 -1.419138   \n",
       "1 -0.731735  2.325997 -0.245937 -0.086478  -1.788312   2.924241  0.082150   \n",
       "2  0.701055  1.279995 -0.053919  2.187264  25.911539 -31.229731 -3.380697   \n",
       "3  5.063613 -8.899640 -0.286164 -0.808732  30.561328 -42.384036 -2.556172   \n",
       "4 -0.625208  2.688715 -0.384554 -0.324846  14.531506 -22.985738  1.672376   \n",
       "\n",
       "         7          8         9    ...       301       302       303  \\\n",
       "0  12.154662  16.755027  0.764835  ...  0.537810 -0.049495  0.945917   \n",
       "1   0.211213  -1.228307 -0.076727  ...  0.233866  0.641584  0.631903   \n",
       "2 -11.880817   4.536021 -3.776145  ... -1.017505  2.772762  0.274460   \n",
       "3  -7.618732  -5.446131 -1.703818  ...  1.318081 -2.260903 -1.992492   \n",
       "4   6.637964  14.667959 -1.481917  ...  1.543386  1.841896  0.136482   \n",
       "\n",
       "        304       305       306       307       308       309       310  \n",
       "0 -2.332954  0.017110  0.733407 -0.336267 -0.811372  1.765557 -0.025870  \n",
       "1 -1.457947 -0.046262 -1.467192  0.223462 -0.711114 -0.535866  0.991526  \n",
       "2  1.126914 -0.668509  1.214713  2.862476  2.011246  2.353129  0.780306  \n",
       "3 -0.449539  1.144723 -0.227496  0.527426  0.518652 -3.330204  2.343072  \n",
       "4  1.855406 -1.627835  0.446192  1.732926 -1.589598 -0.591008 -0.925844  \n",
       "\n",
       "[5 rows x 311 columns]"
      ]
     },
     "execution_count": 6,
     "metadata": {},
     "output_type": "execute_result"
    }
   ],
   "source": [
    "import pandas as pd\n",
    "import numpy as np\n",
    "from sklearn.preprocessing import PowerTransformer, StandardScaler, PolynomialFeatures\n",
    "from sklearn.experimental import enable_iterative_imputer\n",
    "from sklearn.impute import IterativeImputer\n",
    "from sklearn.feature_extraction import FeatureHasher\n",
    "from sklearn.decomposition import PCA\n",
    "\n",
    "# Load your dataset\n",
    "# df = pd.read_csv(\"your_dataset.csv\") # Uncomment and specify your dataset path\n",
    "\n",
    "# Step 1: Ordinal Encoding for 'owners' and 'Overall Review Summary'\n",
    "owners_mapping = {\n",
    "    '0 .. 20,000': 1, '20,000 .. 50,000': 2, '50,000 .. 100,000': 3, '100,000 .. 200,000': 4,\n",
    "    '200,000 .. 500,000': 5, '500,000 .. 1,000,000': 6, '1,000,000 .. 2,000,000': 7,\n",
    "    '2,000,000 .. 5,000,000': 8, '5,000,000 .. 10,000,000': 9, '10,000,000 .. 20,000,000': 10,\n",
    "    '20,000,000 .. 50,000,000': 11, '50,000,000 .. 100,000,000': 12\n",
    "}\n",
    "review_mapping = {\n",
    "    'Overwhelmingly Negative': 1, 'Mostly Negative': 2, 'Negative': 3, 'Mixed': 4,\n",
    "    'Positive': 5, 'Mostly Positive': 6, 'Very Positive': 7, 'Overwhelmingly Positive': 8\n",
    "}\n",
    "\n",
    "# Encode 'owners' and 'Overall Review Summary'\n",
    "df['owners_encoded'] = df['owners'].map(owners_mapping)\n",
    "df['review_summary_encoded'] = df['Overall Review Summary'].map(review_mapping)\n",
    "df.drop(columns=['owners', 'Overall Review Summary'], inplace=True)\n",
    "\n",
    "# Step 2: Feature Hashing for Multi-Label Columns ('Tags', 'Genre', 'Languages')\n",
    "# Applying feature hashing with n_features=15\n",
    "hasher = FeatureHasher(n_features=15, input_type='string')\n",
    "\n",
    "# Hashing for each relevant column\n",
    "for col in ['Tags', 'Genre', 'Languages']:\n",
    "    hashed_features = pd.DataFrame(hasher.fit_transform(df[col].str.split(',')).toarray())\n",
    "    hashed_features.columns = [f\"{col}_hash_{i}\" for i in range(1, 16)]\n",
    "    df = pd.concat([df, hashed_features], axis=1)\n",
    "    df.drop(columns=[col], inplace=True)\n",
    "\n",
    "# Step 3: Drop Unnecessary Columns\n",
    "df.drop(columns=['name', 'developer', 'publisher', 'DLC Names', 'F2P_Status'], inplace=True)\n",
    "\n",
    "# Step 4: Targeted Transformation for Skewed Numerical Features\n",
    "# Identify and transform only the highly skewed numerical columns\n",
    "numeric_cols = df.select_dtypes(include=[float, int]).columns\n",
    "skewed_cols = df[numeric_cols].apply(lambda x: x.skew()).loc[lambda x: x > 1].index\n",
    "\n",
    "# Apply power transformation only on skewed columns\n",
    "power_transformer = PowerTransformer(method='yeo-johnson')\n",
    "df[skewed_cols] = power_transformer.fit_transform(df[skewed_cols])\n",
    "\n",
    "# Step 5: Log Transformation for Specific Skewed Columns\n",
    "# Apply log transformation to 'average_forever_playtime' and 'all_time_peak' (formerly 'peak_players')\n",
    "log_transform_cols = ['average_forever_playtime', 'all_time_peak']\n",
    "for col in log_transform_cols:\n",
    "    if col in df.columns:\n",
    "        # Replace NaN or non-positive values with a small positive number (e.g., 0.1) to avoid log errors\n",
    "        df[col] = df[col].fillna(0.1).apply(lambda x: x if x > 0 else 0.1)\n",
    "        # Apply log transformation\n",
    "        df[col + '_log'] = np.log1p(df[col])\n",
    "    else:\n",
    "        print(f\"Column '{col}' not found in DataFrame.\")\n",
    "\n",
    "# Step 6: Impute Missing Values using Iterative Imputer\n",
    "imputer = IterativeImputer(random_state=42)\n",
    "df_imputed = pd.DataFrame(imputer.fit_transform(df), columns=df.columns)\n",
    "\n",
    "# Step 7: Feature Scaling\n",
    "scaler = StandardScaler()\n",
    "df_scaled = pd.DataFrame(scaler.fit_transform(df_imputed), columns=df_imputed.columns)\n",
    "\n",
    "# Step 8: Polynomial Features with Interaction Terms Only\n",
    "poly = PolynomialFeatures(degree=2, interaction_only=True, include_bias=False)\n",
    "df_poly = pd.DataFrame(poly.fit_transform(df_scaled), columns=poly.get_feature_names_out(df_scaled.columns))\n",
    "\n",
    "# Step 9: Exclude Target Column Before PCA\n",
    "# Ensure the target variable 'average_forever_playtime' and its transformations are not included in PCA\n",
    "target_cols = ['average_forever_playtime', 'average_forever_playtime_log']\n",
    "X = df_poly.drop(columns=target_cols, errors='ignore')  # Only keep feature columns for PCA\n",
    "y = df['average_forever_playtime']  # Target variable\n",
    "\n",
    "# Step 10: Dimensionality Reduction with PCA\n",
    "pca = PCA(n_components=0.80, random_state=42)\n",
    "df_pca = pd.DataFrame(pca.fit_transform(X))  # Apply PCA only on features\n",
    "\n",
    "# Final dataset check\n",
    "print(\"Final dataset shape after PCA:\", df_pca.shape)\n",
    "df_pca.head()\n"
   ]
  },
  {
   "cell_type": "code",
   "execution_count": 5,
   "metadata": {
    "colab": {
     "base_uri": "https://localhost:8080/"
    },
    "id": "OCNE-t_lBG43",
    "outputId": "122063f7-c5a6-4633-dbed-2df04539703d"
   },
   "outputs": [
    {
     "data": {
      "text/plain": [
       "(6257, 311)"
      ]
     },
     "execution_count": 5,
     "metadata": {},
     "output_type": "execute_result"
    }
   ],
   "source": [
    "df_pca.shape"
   ]
  },
  {
   "cell_type": "markdown",
   "metadata": {
    "id": "NtpM8_fCnib5"
   },
   "source": [
    "# Linear Regression"
   ]
  },
  {
   "cell_type": "code",
   "execution_count": 7,
   "metadata": {},
   "outputs": [
    {
     "name": "stdout",
     "output_type": "stream",
     "text": [
      "Fitting 5 folds for each of 252 candidates, totalling 1260 fits\n",
      "Best Parameters for ElasticNet: {'alpha': 0.013111339374215644, 'l1_ratio': 0.3}\n",
      "\n",
      "ElasticNet Regression Results on PCA-transformed Data:\n",
      "Test MSE: 0.07350710968821474\n",
      "Test RMSE: 0.27112194615747126\n",
      "Test R² Score: 0.789696500587352\n",
      "Test % Within ±30%: 22.603833865814696\n",
      "\n",
      "Quintile-based Performance for ElasticNet Regression on PCA-transformed Data:\n",
      "Quintile 1: R² = -72.6570, % Within ±30% = 1.99%\n",
      "Quintile 2: R² = 0.0000, % Within ±30% = 6.00%\n",
      "Quintile 3: R² = -13.4947, % Within ±30% = 20.80%\n",
      "Quintile 4: R² = -2.2989, % Within ±30% = 24.40%\n",
      "Quintile 5: R² = 0.4467, % Within ±30% = 59.76%\n"
     ]
    },
    {
     "data": {
      "image/png": "[encoded data removed]",
      "text/plain": [
       "<Figure size 1000x800 with 1 Axes>"
      ]
     },
     "metadata": {},
     "output_type": "display_data"
    }
   ],
   "source": [
    "from sklearn.linear_model import ElasticNet\n",
    "from sklearn.model_selection import GridSearchCV, train_test_split, KFold\n",
    "from sklearn.metrics import mean_squared_error, r2_score\n",
    "import numpy as np\n",
    "import pandas as pd\n",
    "import matplotlib.pyplot as plt\n",
    "import warnings\n",
    "from sklearn.exceptions import ConvergenceWarning\n",
    "\n",
    "# Ignore Convergence Warnings for cleaner output\n",
    "warnings.filterwarnings(\"ignore\", category=ConvergenceWarning)\n",
    "\n",
    "# Assume `df_pca` is your PCA-transformed feature DataFrame and `y` is the target variable\n",
    "X = df_pca  # Features from the PCA-transformed DataFrame\n",
    "y = df['average_forever_playtime']  # Target variable\n",
    "\n",
    "# Split the data into training and testing sets\n",
    "X_train, X_test, y_train, y_test = train_test_split(X, y, test_size=0.2, random_state=42)\n",
    "\n",
    "# Expanded parameter grid for ElasticNet\n",
    "param_grid = {\n",
    "    'alpha': np.logspace(-4, 2, 18),       # 18 values from 0.0001 to 100\n",
    "    'l1_ratio': [0.1, 0.2, 0.3, 0.4, 0.5, 0.6, 0.65, 0.7, 0.75, 0.8, 0.85, 0.9, 0.95, 0.99]  # 14 values for L1/L2 balance\n",
    "}\n",
    "\n",
    "# Initialize the ElasticNet model\n",
    "elasticnet = ElasticNet(random_state=42, max_iter=10000)\n",
    "\n",
    "# Set up K-Fold Cross-Validation and Grid Search\n",
    "kfold = KFold(n_splits=5, shuffle=True, random_state=42)\n",
    "grid_search = GridSearchCV(\n",
    "    estimator=elasticnet,\n",
    "    param_grid=param_grid,\n",
    "    scoring='neg_mean_squared_error',\n",
    "    cv=kfold,\n",
    "    n_jobs=-1,  # Use all available cores for faster computation\n",
    "    verbose=1\n",
    ")\n",
    "\n",
    "# Fit the model using GridSearchCV\n",
    "grid_search.fit(X_train, y_train)\n",
    "\n",
    "# Extract the best parameters and best model\n",
    "best_params = grid_search.best_params_\n",
    "best_model = grid_search.best_estimator_\n",
    "print(f\"Best Parameters for ElasticNet: {best_params}\")\n",
    "\n",
    "# Predictions on test data using the best model\n",
    "y_pred = best_model.predict(X_test)\n",
    "\n",
    "# Calculate performance metrics\n",
    "mse = mean_squared_error(y_test, y_pred)\n",
    "rmse = np.sqrt(mse)\n",
    "r2 = r2_score(y_test, y_pred)\n",
    "\n",
    "print(\"\\nElasticNet Regression Results on PCA-transformed Data:\")\n",
    "print(f\"Test MSE: {mse}\")\n",
    "print(f\"Test RMSE: {rmse}\")\n",
    "print(f\"Test R² Score: {r2}\")\n",
    "\n",
    "# Function to calculate percentage within ±30% of actual values\n",
    "def percentage_within_threshold(y_true, y_pred, threshold=0.3):\n",
    "    return np.mean(np.abs((y_true - y_pred) / y_true) <= threshold) * 100\n",
    "\n",
    "percent_within_30 = percentage_within_threshold(y_test, y_pred)\n",
    "print(f\"Test % Within ±30%: {percent_within_30}\")\n",
    "\n",
    "# Quintile-based evaluation\n",
    "y_test_noisy = y_test + np.random.normal(0, 1e-5, size=len(y_test))  # Handle duplicate boundaries in quintiles\n",
    "quintiles = pd.qcut(y_test_noisy, 5, labels=False, duplicates='drop')\n",
    "quintile_metrics = {}\n",
    "\n",
    "for q in range(5):\n",
    "    q_indices = (quintiles == q)\n",
    "    y_q_true = y_test[q_indices]\n",
    "    y_q_pred = y_pred[q_indices]\n",
    "    \n",
    "    # Calculate R² and % within ±30% for each quintile\n",
    "    q_r2 = r2_score(y_q_true, y_q_pred)\n",
    "    q_percentage_within_30 = percentage_within_threshold(y_q_true, y_q_pred)\n",
    "    \n",
    "    # Store metrics in a dictionary\n",
    "    quintile_metrics[f'Quintile {q+1}'] = {\n",
    "        'R²': q_r2,\n",
    "        '% Within ±30%': q_percentage_within_30\n",
    "    }\n",
    "\n",
    "# Print quintile-based metrics\n",
    "print(\"\\nQuintile-based Performance for ElasticNet Regression on PCA-transformed Data:\")\n",
    "for quintile, metrics in quintile_metrics.items():\n",
    "    print(f\"{quintile}: R² = {metrics['R²']:.4f}, % Within ±30% = {metrics['% Within ±30%']:.2f}%\")\n",
    "\n",
    "# Display feature importance based on coefficients\n",
    "feature_importances = np.abs(best_model.coef_)\n",
    "sorted_idx = np.argsort(feature_importances)[::-1]\n",
    "\n",
    "# Plot top features by importance\n",
    "top_n = min(20, len(feature_importances))  # Adjust to display up to 20 features if available\n",
    "plt.figure(figsize=(10, 8))\n",
    "plt.barh(range(top_n), feature_importances[sorted_idx[:top_n]], align='center')\n",
    "plt.yticks(range(top_n), [f\"Component {i}\" for i in sorted_idx[:top_n]])\n",
    "plt.xlabel(\"Feature Importance (Absolute Coefficient Value)\")\n",
    "plt.title(\"Top Feature Importances from ElasticNet Model on PCA-transformed Data\")\n",
    "plt.gca().invert_yaxis()\n",
    "plt.show()\n"
   ]
  },
  {
   "cell_type": "code",
   "execution_count": 8,
   "metadata": {},
   "outputs": [
    {
     "name": "stderr",
     "output_type": "stream",
     "text": [
      "Random Forest Parameter Tuning:   0%|                                               | 1/1024 [00:16<4:41:52, 16.53s/it]\n"
     ]
    },
    {
     "ename": "KeyboardInterrupt",
     "evalue": "",
     "output_type": "error",
     "traceback": [
      "\u001b[1;31m---------------------------------------------------------------------------\u001b[0m",
      "\u001b[1;31mKeyboardInterrupt\u001b[0m                         Traceback (most recent call last)",
      "Cell \u001b[1;32mIn[8], line 50\u001b[0m\n\u001b[0;32m     48\u001b[0m \u001b[38;5;66;03m# Initialize and train the Random Forest model\u001b[39;00m\n\u001b[0;32m     49\u001b[0m model \u001b[38;5;241m=\u001b[39m RandomForestRegressor(random_state\u001b[38;5;241m=\u001b[39m\u001b[38;5;241m42\u001b[39m, \u001b[38;5;241m*\u001b[39m\u001b[38;5;241m*\u001b[39mparams)\n\u001b[1;32m---> 50\u001b[0m model\u001b[38;5;241m.\u001b[39mfit(X_train_fold, y_train_fold)\n\u001b[0;32m     52\u001b[0m \u001b[38;5;66;03m# Predictions and evaluation on the validation fold\u001b[39;00m\n\u001b[0;32m     53\u001b[0m y_val_pred \u001b[38;5;241m=\u001b[39m model\u001b[38;5;241m.\u001b[39mpredict(X_val_fold)\n",
      "File \u001b[1;32m~\\anaconda3\\Lib\\site-packages\\sklearn\\base.py:1473\u001b[0m, in \u001b[0;36m_fit_context.<locals>.decorator.<locals>.wrapper\u001b[1;34m(estimator, *args, **kwargs)\u001b[0m\n\u001b[0;32m   1466\u001b[0m     estimator\u001b[38;5;241m.\u001b[39m_validate_params()\n\u001b[0;32m   1468\u001b[0m \u001b[38;5;28;01mwith\u001b[39;00m config_context(\n\u001b[0;32m   1469\u001b[0m     skip_parameter_validation\u001b[38;5;241m=\u001b[39m(\n\u001b[0;32m   1470\u001b[0m         prefer_skip_nested_validation \u001b[38;5;129;01mor\u001b[39;00m global_skip_validation\n\u001b[0;32m   1471\u001b[0m     )\n\u001b[0;32m   1472\u001b[0m ):\n\u001b[1;32m-> 1473\u001b[0m     \u001b[38;5;28;01mreturn\u001b[39;00m fit_method(estimator, \u001b[38;5;241m*\u001b[39margs, \u001b[38;5;241m*\u001b[39m\u001b[38;5;241m*\u001b[39mkwargs)\n",
      "File \u001b[1;32m~\\anaconda3\\Lib\\site-packages\\sklearn\\ensemble\\_forest.py:489\u001b[0m, in \u001b[0;36mBaseForest.fit\u001b[1;34m(self, X, y, sample_weight)\u001b[0m\n\u001b[0;32m    478\u001b[0m trees \u001b[38;5;241m=\u001b[39m [\n\u001b[0;32m    479\u001b[0m     \u001b[38;5;28mself\u001b[39m\u001b[38;5;241m.\u001b[39m_make_estimator(append\u001b[38;5;241m=\u001b[39m\u001b[38;5;28;01mFalse\u001b[39;00m, random_state\u001b[38;5;241m=\u001b[39mrandom_state)\n\u001b[0;32m    480\u001b[0m     \u001b[38;5;28;01mfor\u001b[39;00m i \u001b[38;5;129;01min\u001b[39;00m \u001b[38;5;28mrange\u001b[39m(n_more_estimators)\n\u001b[0;32m    481\u001b[0m ]\n\u001b[0;32m    483\u001b[0m \u001b[38;5;66;03m# Parallel loop: we prefer the threading backend as the Cython code\u001b[39;00m\n\u001b[0;32m    484\u001b[0m \u001b[38;5;66;03m# for fitting the trees is internally releasing the Python GIL\u001b[39;00m\n\u001b[0;32m    485\u001b[0m \u001b[38;5;66;03m# making threading more efficient than multiprocessing in\u001b[39;00m\n\u001b[0;32m    486\u001b[0m \u001b[38;5;66;03m# that case. However, for joblib 0.12+ we respect any\u001b[39;00m\n\u001b[0;32m    487\u001b[0m \u001b[38;5;66;03m# parallel_backend contexts set at a higher level,\u001b[39;00m\n\u001b[0;32m    488\u001b[0m \u001b[38;5;66;03m# since correctness does not rely on using threads.\u001b[39;00m\n\u001b[1;32m--> 489\u001b[0m trees \u001b[38;5;241m=\u001b[39m Parallel(\n\u001b[0;32m    490\u001b[0m     n_jobs\u001b[38;5;241m=\u001b[39m\u001b[38;5;28mself\u001b[39m\u001b[38;5;241m.\u001b[39mn_jobs,\n\u001b[0;32m    491\u001b[0m     verbose\u001b[38;5;241m=\u001b[39m\u001b[38;5;28mself\u001b[39m\u001b[38;5;241m.\u001b[39mverbose,\n\u001b[0;32m    492\u001b[0m     prefer\u001b[38;5;241m=\u001b[39m\u001b[38;5;124m\"\u001b[39m\u001b[38;5;124mthreads\u001b[39m\u001b[38;5;124m\"\u001b[39m,\n\u001b[0;32m    493\u001b[0m )(\n\u001b[0;32m    494\u001b[0m     delayed(_parallel_build_trees)(\n\u001b[0;32m    495\u001b[0m         t,\n\u001b[0;32m    496\u001b[0m         \u001b[38;5;28mself\u001b[39m\u001b[38;5;241m.\u001b[39mbootstrap,\n\u001b[0;32m    497\u001b[0m         X,\n\u001b[0;32m    498\u001b[0m         y,\n\u001b[0;32m    499\u001b[0m         sample_weight,\n\u001b[0;32m    500\u001b[0m         i,\n\u001b[0;32m    501\u001b[0m         \u001b[38;5;28mlen\u001b[39m(trees),\n\u001b[0;32m    502\u001b[0m         verbose\u001b[38;5;241m=\u001b[39m\u001b[38;5;28mself\u001b[39m\u001b[38;5;241m.\u001b[39mverbose,\n\u001b[0;32m    503\u001b[0m         class_weight\u001b[38;5;241m=\u001b[39m\u001b[38;5;28mself\u001b[39m\u001b[38;5;241m.\u001b[39mclass_weight,\n\u001b[0;32m    504\u001b[0m         n_samples_bootstrap\u001b[38;5;241m=\u001b[39mn_samples_bootstrap,\n\u001b[0;32m    505\u001b[0m         missing_values_in_feature_mask\u001b[38;5;241m=\u001b[39mmissing_values_in_feature_mask,\n\u001b[0;32m    506\u001b[0m     )\n\u001b[0;32m    507\u001b[0m     \u001b[38;5;28;01mfor\u001b[39;00m i, t \u001b[38;5;129;01min\u001b[39;00m \u001b[38;5;28menumerate\u001b[39m(trees)\n\u001b[0;32m    508\u001b[0m )\n\u001b[0;32m    510\u001b[0m \u001b[38;5;66;03m# Collect newly grown trees\u001b[39;00m\n\u001b[0;32m    511\u001b[0m \u001b[38;5;28mself\u001b[39m\u001b[38;5;241m.\u001b[39mestimators_\u001b[38;5;241m.\u001b[39mextend(trees)\n",
      "File \u001b[1;32m~\\anaconda3\\Lib\\site-packages\\sklearn\\utils\\parallel.py:74\u001b[0m, in \u001b[0;36mParallel.__call__\u001b[1;34m(self, iterable)\u001b[0m\n\u001b[0;32m     69\u001b[0m config \u001b[38;5;241m=\u001b[39m get_config()\n\u001b[0;32m     70\u001b[0m iterable_with_config \u001b[38;5;241m=\u001b[39m (\n\u001b[0;32m     71\u001b[0m     (_with_config(delayed_func, config), args, kwargs)\n\u001b[0;32m     72\u001b[0m     \u001b[38;5;28;01mfor\u001b[39;00m delayed_func, args, kwargs \u001b[38;5;129;01min\u001b[39;00m iterable\n\u001b[0;32m     73\u001b[0m )\n\u001b[1;32m---> 74\u001b[0m \u001b[38;5;28;01mreturn\u001b[39;00m \u001b[38;5;28msuper\u001b[39m()\u001b[38;5;241m.\u001b[39m\u001b[38;5;21m__call__\u001b[39m(iterable_with_config)\n",
      "File \u001b[1;32m~\\anaconda3\\Lib\\site-packages\\joblib\\parallel.py:1918\u001b[0m, in \u001b[0;36mParallel.__call__\u001b[1;34m(self, iterable)\u001b[0m\n\u001b[0;32m   1916\u001b[0m     output \u001b[38;5;241m=\u001b[39m \u001b[38;5;28mself\u001b[39m\u001b[38;5;241m.\u001b[39m_get_sequential_output(iterable)\n\u001b[0;32m   1917\u001b[0m     \u001b[38;5;28mnext\u001b[39m(output)\n\u001b[1;32m-> 1918\u001b[0m     \u001b[38;5;28;01mreturn\u001b[39;00m output \u001b[38;5;28;01mif\u001b[39;00m \u001b[38;5;28mself\u001b[39m\u001b[38;5;241m.\u001b[39mreturn_generator \u001b[38;5;28;01melse\u001b[39;00m \u001b[38;5;28mlist\u001b[39m(output)\n\u001b[0;32m   1920\u001b[0m \u001b[38;5;66;03m# Let's create an ID that uniquely identifies the current call. If the\u001b[39;00m\n\u001b[0;32m   1921\u001b[0m \u001b[38;5;66;03m# call is interrupted early and that the same instance is immediately\u001b[39;00m\n\u001b[0;32m   1922\u001b[0m \u001b[38;5;66;03m# re-used, this id will be used to prevent workers that were\u001b[39;00m\n\u001b[0;32m   1923\u001b[0m \u001b[38;5;66;03m# concurrently finalizing a task from the previous call to run the\u001b[39;00m\n\u001b[0;32m   1924\u001b[0m \u001b[38;5;66;03m# callback.\u001b[39;00m\n\u001b[0;32m   1925\u001b[0m \u001b[38;5;28;01mwith\u001b[39;00m \u001b[38;5;28mself\u001b[39m\u001b[38;5;241m.\u001b[39m_lock:\n",
      "File \u001b[1;32m~\\anaconda3\\Lib\\site-packages\\joblib\\parallel.py:1847\u001b[0m, in \u001b[0;36mParallel._get_sequential_output\u001b[1;34m(self, iterable)\u001b[0m\n\u001b[0;32m   1845\u001b[0m \u001b[38;5;28mself\u001b[39m\u001b[38;5;241m.\u001b[39mn_dispatched_batches \u001b[38;5;241m+\u001b[39m\u001b[38;5;241m=\u001b[39m \u001b[38;5;241m1\u001b[39m\n\u001b[0;32m   1846\u001b[0m \u001b[38;5;28mself\u001b[39m\u001b[38;5;241m.\u001b[39mn_dispatched_tasks \u001b[38;5;241m+\u001b[39m\u001b[38;5;241m=\u001b[39m \u001b[38;5;241m1\u001b[39m\n\u001b[1;32m-> 1847\u001b[0m res \u001b[38;5;241m=\u001b[39m func(\u001b[38;5;241m*\u001b[39margs, \u001b[38;5;241m*\u001b[39m\u001b[38;5;241m*\u001b[39mkwargs)\n\u001b[0;32m   1848\u001b[0m \u001b[38;5;28mself\u001b[39m\u001b[38;5;241m.\u001b[39mn_completed_tasks \u001b[38;5;241m+\u001b[39m\u001b[38;5;241m=\u001b[39m \u001b[38;5;241m1\u001b[39m\n\u001b[0;32m   1849\u001b[0m \u001b[38;5;28mself\u001b[39m\u001b[38;5;241m.\u001b[39mprint_progress()\n",
      "File \u001b[1;32m~\\anaconda3\\Lib\\site-packages\\sklearn\\utils\\parallel.py:136\u001b[0m, in \u001b[0;36m_FuncWrapper.__call__\u001b[1;34m(self, *args, **kwargs)\u001b[0m\n\u001b[0;32m    134\u001b[0m     config \u001b[38;5;241m=\u001b[39m {}\n\u001b[0;32m    135\u001b[0m \u001b[38;5;28;01mwith\u001b[39;00m config_context(\u001b[38;5;241m*\u001b[39m\u001b[38;5;241m*\u001b[39mconfig):\n\u001b[1;32m--> 136\u001b[0m     \u001b[38;5;28;01mreturn\u001b[39;00m \u001b[38;5;28mself\u001b[39m\u001b[38;5;241m.\u001b[39mfunction(\u001b[38;5;241m*\u001b[39margs, \u001b[38;5;241m*\u001b[39m\u001b[38;5;241m*\u001b[39mkwargs)\n",
      "File \u001b[1;32m~\\anaconda3\\Lib\\site-packages\\sklearn\\ensemble\\_forest.py:192\u001b[0m, in \u001b[0;36m_parallel_build_trees\u001b[1;34m(tree, bootstrap, X, y, sample_weight, tree_idx, n_trees, verbose, class_weight, n_samples_bootstrap, missing_values_in_feature_mask)\u001b[0m\n\u001b[0;32m    189\u001b[0m     \u001b[38;5;28;01melif\u001b[39;00m class_weight \u001b[38;5;241m==\u001b[39m \u001b[38;5;124m\"\u001b[39m\u001b[38;5;124mbalanced_subsample\u001b[39m\u001b[38;5;124m\"\u001b[39m:\n\u001b[0;32m    190\u001b[0m         curr_sample_weight \u001b[38;5;241m*\u001b[39m\u001b[38;5;241m=\u001b[39m compute_sample_weight(\u001b[38;5;124m\"\u001b[39m\u001b[38;5;124mbalanced\u001b[39m\u001b[38;5;124m\"\u001b[39m, y, indices\u001b[38;5;241m=\u001b[39mindices)\n\u001b[1;32m--> 192\u001b[0m     tree\u001b[38;5;241m.\u001b[39m_fit(\n\u001b[0;32m    193\u001b[0m         X,\n\u001b[0;32m    194\u001b[0m         y,\n\u001b[0;32m    195\u001b[0m         sample_weight\u001b[38;5;241m=\u001b[39mcurr_sample_weight,\n\u001b[0;32m    196\u001b[0m         check_input\u001b[38;5;241m=\u001b[39m\u001b[38;5;28;01mFalse\u001b[39;00m,\n\u001b[0;32m    197\u001b[0m         missing_values_in_feature_mask\u001b[38;5;241m=\u001b[39mmissing_values_in_feature_mask,\n\u001b[0;32m    198\u001b[0m     )\n\u001b[0;32m    199\u001b[0m \u001b[38;5;28;01melse\u001b[39;00m:\n\u001b[0;32m    200\u001b[0m     tree\u001b[38;5;241m.\u001b[39m_fit(\n\u001b[0;32m    201\u001b[0m         X,\n\u001b[0;32m    202\u001b[0m         y,\n\u001b[1;32m   (...)\u001b[0m\n\u001b[0;32m    205\u001b[0m         missing_values_in_feature_mask\u001b[38;5;241m=\u001b[39mmissing_values_in_feature_mask,\n\u001b[0;32m    206\u001b[0m     )\n",
      "File \u001b[1;32m~\\anaconda3\\Lib\\site-packages\\sklearn\\tree\\_classes.py:472\u001b[0m, in \u001b[0;36mBaseDecisionTree._fit\u001b[1;34m(self, X, y, sample_weight, check_input, missing_values_in_feature_mask)\u001b[0m\n\u001b[0;32m    461\u001b[0m \u001b[38;5;28;01melse\u001b[39;00m:\n\u001b[0;32m    462\u001b[0m     builder \u001b[38;5;241m=\u001b[39m BestFirstTreeBuilder(\n\u001b[0;32m    463\u001b[0m         splitter,\n\u001b[0;32m    464\u001b[0m         min_samples_split,\n\u001b[1;32m   (...)\u001b[0m\n\u001b[0;32m    469\u001b[0m         \u001b[38;5;28mself\u001b[39m\u001b[38;5;241m.\u001b[39mmin_impurity_decrease,\n\u001b[0;32m    470\u001b[0m     )\n\u001b[1;32m--> 472\u001b[0m builder\u001b[38;5;241m.\u001b[39mbuild(\u001b[38;5;28mself\u001b[39m\u001b[38;5;241m.\u001b[39mtree_, X, y, sample_weight, missing_values_in_feature_mask)\n\u001b[0;32m    474\u001b[0m \u001b[38;5;28;01mif\u001b[39;00m \u001b[38;5;28mself\u001b[39m\u001b[38;5;241m.\u001b[39mn_outputs_ \u001b[38;5;241m==\u001b[39m \u001b[38;5;241m1\u001b[39m \u001b[38;5;129;01mand\u001b[39;00m is_classifier(\u001b[38;5;28mself\u001b[39m):\n\u001b[0;32m    475\u001b[0m     \u001b[38;5;28mself\u001b[39m\u001b[38;5;241m.\u001b[39mn_classes_ \u001b[38;5;241m=\u001b[39m \u001b[38;5;28mself\u001b[39m\u001b[38;5;241m.\u001b[39mn_classes_[\u001b[38;5;241m0\u001b[39m]\n",
      "\u001b[1;31mKeyboardInterrupt\u001b[0m: "
     ]
    }
   ],
   "source": [
    "from sklearn.ensemble import RandomForestRegressor\n",
    "from sklearn.model_selection import train_test_split, KFold\n",
    "from sklearn.metrics import mean_squared_error, r2_score\n",
    "from tqdm import tqdm\n",
    "import numpy as np\n",
    "import pandas as pd\n",
    "import matplotlib.pyplot as plt\n",
    "import itertools\n",
    "\n",
    "# Assume `df_pca` is your PCA-transformed feature DataFrame and `y` is the target variable\n",
    "X = df_pca  # Features from the PCA-transformed DataFrame\n",
    "y = df['average_forever_playtime']  # Target variable\n",
    "\n",
    "# Split the data into training and testing sets\n",
    "X_train, X_test, y_train, y_test = train_test_split(X, y, test_size=0.2, random_state=42)\n",
    "\n",
    "# Random Forest parameter grid with expanded candidate values\n",
    "param_grid = {\n",
    "    'n_estimators': [100, 150, 200, 250],            # Expanded to add more values\n",
    "    'max_depth': [10, 15, 20, 25],                   # Added more depth values\n",
    "    'min_samples_split': [5, 10, 15, 20],            # Increased possible splits\n",
    "    'min_samples_leaf': [1, 2, 4, 6],                # Additional minimum leaf values\n",
    "    'max_features': ['sqrt', 0.6, 0.8, 1.0]          # Expanded feature consideration\n",
    "}\n",
    "\n",
    "\n",
    "# Generate all parameter combinations\n",
    "param_combinations = list(itertools.product(*param_grid.values()))\n",
    "\n",
    "# Initialize tracking variables for the best model\n",
    "best_model = None\n",
    "best_mse = float('inf')\n",
    "best_params = None\n",
    "\n",
    "# Set up K-Fold Cross-Validation\n",
    "kfold = KFold(n_splits=3, shuffle=True, random_state=42)\n",
    "\n",
    "# Manually iterate over each parameter combination with TQDM for progress tracking\n",
    "for param_comb in tqdm(param_combinations, desc=\"Random Forest Parameter Tuning\"):\n",
    "    params = dict(zip(param_grid.keys(), param_comb))\n",
    "    fold_mses = []\n",
    "    \n",
    "    # Perform cross-validation manually for each parameter combination\n",
    "    for train_idx, val_idx in kfold.split(X_train):\n",
    "        X_train_fold, X_val_fold = X_train.iloc[train_idx], X_train.iloc[val_idx]\n",
    "        y_train_fold, y_val_fold = y_train.iloc[train_idx], y_train.iloc[val_idx]\n",
    "        \n",
    "        # Initialize and train the Random Forest model\n",
    "        model = RandomForestRegressor(random_state=42, **params)\n",
    "        model.fit(X_train_fold, y_train_fold)\n",
    "        \n",
    "        # Predictions and evaluation on the validation fold\n",
    "        y_val_pred = model.predict(X_val_fold)\n",
    "        mse = mean_squared_error(y_val_fold, y_val_pred)\n",
    "        fold_mses.append(mse)\n",
    "    \n",
    "    # Average MSE across folds\n",
    "    avg_mse = np.mean(fold_mses)\n",
    "    if avg_mse < best_mse:\n",
    "        best_mse = avg_mse\n",
    "        best_model = model\n",
    "        best_params = params\n",
    "\n",
    "print(f\"Best Parameters for Random Forest: {best_params}\")\n",
    "\n",
    "# Final evaluation on the test set with the best model\n",
    "y_test_pred = best_model.predict(X_test)\n",
    "test_mse = mean_squared_error(y_test, y_test_pred)\n",
    "test_rmse = np.sqrt(test_mse)\n",
    "test_r2 = r2_score(y_test, y_test_pred)\n",
    "\n",
    "print(\"\\nRandom Forest Regression Results on PCA-transformed Data:\")\n",
    "print(f\"Test MSE: {test_mse}\")\n",
    "print(f\"Test RMSE: {test_rmse}\")\n",
    "print(f\"Test R² Score: {test_r2}\")\n",
    "\n",
    "# Function to calculate percentage within a specified threshold\n",
    "def percentage_within_threshold(y_true, y_pred, threshold=0.3):\n",
    "    return np.mean(np.abs((y_true - y_pred) / y_true) <= threshold) * 100\n",
    "\n",
    "# Calculate error percentages within ±30%, ±50%, and ±100%\n",
    "percent_within_30 = percentage_within_threshold(y_test, y_test_pred, threshold=0.3)\n",
    "percent_within_50 = percentage_within_threshold(y_test, y_test_pred, threshold=0.5)\n",
    "percent_within_100 = percentage_within_threshold(y_test, y_test_pred, threshold=1.0)\n",
    "\n",
    "print(f\"Test % Within ±30%: {percent_within_30}\")\n",
    "print(f\"Test % Within ±50%: {percent_within_50}\")\n",
    "print(f\"Test % Within ±100%: {percent_within_100}\")\n",
    "\n",
    "# Quintile-based evaluation\n",
    "y_test_noisy = y_test + np.random.normal(0, 1e-5, size=len(y_test))  # Handle duplicate boundaries in quintiles\n",
    "quintiles = pd.qcut(y_test_noisy, 5, labels=False, duplicates='drop')\n",
    "quintile_metrics = {}\n",
    "\n",
    "for q in range(5):\n",
    "    q_indices = (quintiles == q)\n",
    "    y_q_true = y_test[q_indices]\n",
    "    y_q_pred = y_test_pred[q_indices]\n",
    "    \n",
    "    # Calculate MSE, RMSE, R², and % within thresholds for each quintile\n",
    "    q_mse = mean_squared_error(y_q_true, y_q_pred)\n",
    "    q_rmse = np.sqrt(q_mse)\n",
    "    q_r2 = r2_score(y_q_true, y_q_pred)\n",
    "    q_percentage_within_30 = percentage_within_threshold(y_q_true, y_q_pred, threshold=0.3)\n",
    "    q_percentage_within_50 = percentage_within_threshold(y_q_true, y_q_pred, threshold=0.5)\n",
    "    q_percentage_within_100 = percentage_within_threshold(y_q_true, y_q_pred, threshold=1.0)\n",
    "    \n",
    "    # Store metrics in a dictionary\n",
    "    quintile_metrics[f'Quintile {q+1}'] = {\n",
    "        'MSE': q_mse,\n",
    "        'RMSE': q_rmse,\n",
    "        'R²': q_r2,\n",
    "        '% Within ±30%': q_percentage_within_30,\n",
    "        '% Within ±50%': q_percentage_within_50,\n",
    "        '% Within ±100%': q_percentage_within_100\n",
    "    }\n",
    "\n",
    "# Print quintile-based metrics\n",
    "print(\"\\nQuintile-based Performance for Random Forest Regression on PCA-transformed Data:\")\n",
    "for quintile, metrics in quintile_metrics.items():\n",
    "    print(f\"{quintile}: MSE = {metrics['MSE']:.4f}, RMSE = {metrics['RMSE']:.4f}, R² = {metrics['R²']:.4f}, \"\n",
    "          f\"% Within ±30% = {metrics['% Within ±30%']:.2f}%, % Within ±50% = {metrics['% Within ±50%']:.2f}%, \"\n",
    "          f\"% Within ±100% = {metrics['% Within ±100%']:.2f}%\")\n",
    "\n",
    "# Display feature importance based on Random Forest feature_importances_\n",
    "feature_importances = best_model.feature_importances_\n",
    "sorted_idx = np.argsort(feature_importances)[::-1]\n",
    "\n",
    "# Plot top features by importance\n",
    "top_n = min(20, len(feature_importances))  # Adjust to display up to 20 features if available\n",
    "plt.figure(figsize=(10, 8))\n",
    "plt.barh(range(top_n), feature_importances[sorted_idx[:top_n]], align='center')\n",
    "plt.yticks(range(top_n), [f\"Component {i}\" for i in sorted_idx[:top_n]])\n",
    "plt.xlabel(\"Feature Importance\")\n",
    "plt.title(\"Top Feature Importances from Random Forest Model on PCA-transformed Data\")\n",
    "plt.gca().invert_yaxis()\n",
    "plt.show()\n"
   ]
  },
  {
   "cell_type": "code",
   "execution_count": null,
   "metadata": {},
   "outputs": [
    {
     "name": "stderr",
     "output_type": "stream",
     "text": [
      "XGBoost Parameter Tuning:   0%|                                                     | 1/1280 [00:09<3:12:28,  9.03s/it]"
     ]
    },
    {
     "name": "stdout",
     "output_type": "stream",
     "text": [
      "\n",
      "New best % Within ±30%: 21.41% with parameters: {'max_depth': 4, 'learning_rate': 0.03, 'n_estimators': 150, 'subsample': 0.7, 'colsample_bytree': 0.7}\n",
      "Overall Test R²: 0.7312\n",
      "\n",
      "Quintile-based Performance for Current Best Model:\n",
      "Quintile 1: MSE = 0.0497, RMSE = 0.2229, R² = -61.2983, % Within ±30% = 0.40%\n",
      "Quintile 2: MSE = 0.0399, RMSE = 0.1997, R² = 0.0000, % Within ±30% = 0.00%\n",
      "Quintile 3: MSE = 0.0372, RMSE = 0.1928, R² = -19.8292, % Within ±30% = 20.80%\n",
      "Quintile 4: MSE = 0.0528, RMSE = 0.2299, R² = -1.4511, % Within ±30% = 35.60%\n",
      "Quintile 5: MSE = 0.2896, RMSE = 0.5381, R² = 0.0814, % Within ±30% = 50.20%\n"
     ]
    },
    {
     "name": "stderr",
     "output_type": "stream",
     "text": [
      "XGBoost Parameter Tuning:   0%|                                                     | 2/1280 [00:18<3:15:11,  9.16s/it]"
     ]
    },
    {
     "name": "stdout",
     "output_type": "stream",
     "text": [
      "\n",
      "New best % Within ±30%: 21.81% with parameters: {'max_depth': 4, 'learning_rate': 0.03, 'n_estimators': 150, 'subsample': 0.7, 'colsample_bytree': 0.8}\n",
      "Overall Test R²: 0.7419\n",
      "\n",
      "Quintile-based Performance for Current Best Model:\n",
      "Quintile 1: MSE = 0.0514, RMSE = 0.2267, R² = -63.4419, % Within ±30% = 0.00%\n",
      "Quintile 2: MSE = 0.0449, RMSE = 0.2119, R² = 0.0000, % Within ±30% = 0.00%\n",
      "Quintile 3: MSE = 0.0271, RMSE = 0.1646, R² = -14.1814, % Within ±30% = 18.80%\n",
      "Quintile 4: MSE = 0.0537, RMSE = 0.2318, R² = -1.4917, % Within ±30% = 37.20%\n",
      "Quintile 5: MSE = 0.2734, RMSE = 0.5229, R² = 0.1326, % Within ±30% = 52.99%\n"
     ]
    },
    {
     "name": "stderr",
     "output_type": "stream",
     "text": [
      "XGBoost Parameter Tuning:   1%|▌                                                   | 15/1280 [02:17<3:13:13,  9.16s/it]"
     ]
    },
    {
     "name": "stdout",
     "output_type": "stream",
     "text": [
      "\n",
      "New best % Within ±30%: 22.12% with parameters: {'max_depth': 4, 'learning_rate': 0.03, 'n_estimators': 150, 'subsample': 0.85, 'colsample_bytree': 0.9}\n",
      "Overall Test R²: 0.7299\n",
      "\n",
      "Quintile-based Performance for Current Best Model:\n",
      "Quintile 1: MSE = 0.0535, RMSE = 0.2313, R² = -66.0537, % Within ±30% = 0.40%\n",
      "Quintile 2: MSE = 0.0497, RMSE = 0.2229, R² = 0.0000, % Within ±30% = 0.80%\n",
      "Quintile 3: MSE = 0.0245, RMSE = 0.1566, R² = -12.7442, % Within ±30% = 21.20%\n",
      "Quintile 4: MSE = 0.0569, RMSE = 0.2385, R² = -1.6376, % Within ±30% = 38.80%\n",
      "Quintile 5: MSE = 0.2868, RMSE = 0.5356, R² = 0.0900, % Within ±30% = 49.40%\n"
     ]
    },
    {
     "name": "stderr",
     "output_type": "stream",
     "text": [
      "XGBoost Parameter Tuning:   1%|▋                                                   | 16/1280 [02:27<3:15:35,  9.28s/it]"
     ]
    },
    {
     "name": "stdout",
     "output_type": "stream",
     "text": [
      "\n",
      "New best % Within ±30%: 22.36% with parameters: {'max_depth': 4, 'learning_rate': 0.03, 'n_estimators': 150, 'subsample': 0.85, 'colsample_bytree': 1.0}\n",
      "Overall Test R²: 0.7326\n",
      "\n",
      "Quintile-based Performance for Current Best Model:\n",
      "Quintile 1: MSE = 0.0473, RMSE = 0.2175, R² = -58.2997, % Within ±30% = 0.40%\n",
      "Quintile 2: MSE = 0.0459, RMSE = 0.2142, R² = 0.0000, % Within ±30% = 0.00%\n",
      "Quintile 3: MSE = 0.0286, RMSE = 0.1691, R² = -15.0196, % Within ±30% = 21.20%\n",
      "Quintile 4: MSE = 0.0540, RMSE = 0.2323, R² = -1.5028, % Within ±30% = 38.00%\n",
      "Quintile 5: MSE = 0.2910, RMSE = 0.5394, R² = 0.0769, % Within ±30% = 52.19%\n"
     ]
    },
    {
     "name": "stderr",
     "output_type": "stream",
     "text": [
      "XGBoost Parameter Tuning:   1%|▋                                                   | 17/1280 [02:38<3:31:02, 10.03s/it]"
     ]
    },
    {
     "name": "stdout",
     "output_type": "stream",
     "text": [
      "\n",
      "New best % Within ±30%: 23.64% with parameters: {'max_depth': 4, 'learning_rate': 0.03, 'n_estimators': 200, 'subsample': 0.7, 'colsample_bytree': 0.7}\n",
      "Overall Test R²: 0.7544\n",
      "\n",
      "Quintile-based Performance for Current Best Model:\n",
      "Quintile 1: MSE = 0.0545, RMSE = 0.2334, R² = -67.3137, % Within ±30% = 0.80%\n",
      "Quintile 2: MSE = 0.0448, RMSE = 0.2116, R² = 0.0000, % Within ±30% = 4.00%\n",
      "Quintile 3: MSE = 0.0222, RMSE = 0.1491, R² = -11.4536, % Within ±30% = 23.60%\n",
      "Quintile 4: MSE = 0.0522, RMSE = 0.2285, R² = -1.4221, % Within ±30% = 34.00%\n",
      "Quintile 5: MSE = 0.2550, RMSE = 0.5049, R² = 0.1911, % Within ±30% = 55.78%\n"
     ]
    },
    {
     "name": "stderr",
     "output_type": "stream",
     "text": [
      "XGBoost Parameter Tuning:   2%|▊                                                   | 20/1280 [03:15<3:59:28, 11.40s/it]"
     ]
    },
    {
     "name": "stdout",
     "output_type": "stream",
     "text": [
      "\n",
      "New best % Within ±30%: 23.96% with parameters: {'max_depth': 4, 'learning_rate': 0.03, 'n_estimators': 200, 'subsample': 0.7, 'colsample_bytree': 1.0}\n",
      "Overall Test R²: 0.7637\n",
      "\n",
      "Quintile-based Performance for Current Best Model:\n",
      "Quintile 1: MSE = 0.0524, RMSE = 0.2289, R² = -64.6737, % Within ±30% = 3.59%\n",
      "Quintile 2: MSE = 0.0393, RMSE = 0.1983, R² = 0.0000, % Within ±30% = 4.40%\n",
      "Quintile 3: MSE = 0.0204, RMSE = 0.1429, R² = -10.4361, % Within ±30% = 22.80%\n",
      "Quintile 4: MSE = 0.0533, RMSE = 0.2309, R² = -1.4720, % Within ±30% = 34.80%\n",
      "Quintile 5: MSE = 0.2471, RMSE = 0.4971, R² = 0.2161, % Within ±30% = 54.18%\n"
     ]
    },
    {
     "name": "stderr",
     "output_type": "stream",
     "text": [
      "XGBoost Parameter Tuning:   2%|█▏                                                  | 28/1280 [04:51<4:15:25, 12.24s/it]"
     ]
    },
    {
     "name": "stdout",
     "output_type": "stream",
     "text": [
      "\n",
      "New best % Within ±30%: 24.20% with parameters: {'max_depth': 4, 'learning_rate': 0.03, 'n_estimators': 200, 'subsample': 0.8, 'colsample_bytree': 1.0}\n",
      "Overall Test R²: 0.7579\n",
      "\n",
      "Quintile-based Performance for Current Best Model:\n",
      "Quintile 1: MSE = 0.0455, RMSE = 0.2134, R² = -56.0983, % Within ±30% = 4.38%\n",
      "Quintile 2: MSE = 0.0451, RMSE = 0.2124, R² = 0.0000, % Within ±30% = 4.40%\n",
      "Quintile 3: MSE = 0.0270, RMSE = 0.1644, R² = -14.1363, % Within ±30% = 22.00%\n",
      "Quintile 4: MSE = 0.0556, RMSE = 0.2358, R² = -1.5786, % Within ±30% = 34.80%\n",
      "Quintile 5: MSE = 0.2493, RMSE = 0.4993, R² = 0.2092, % Within ±30% = 55.38%\n"
     ]
    },
    {
     "name": "stderr",
     "output_type": "stream",
     "text": [
      "XGBoost Parameter Tuning:   2%|█▎                                                  | 31/1280 [05:35<4:45:51, 13.73s/it]"
     ]
    },
    {
     "name": "stdout",
     "output_type": "stream",
     "text": [
      "\n",
      "New best % Within ±30%: 24.36% with parameters: {'max_depth': 4, 'learning_rate': 0.03, 'n_estimators': 200, 'subsample': 0.85, 'colsample_bytree': 0.9}\n",
      "Overall Test R²: 0.7538\n",
      "\n",
      "Quintile-based Performance for Current Best Model:\n",
      "Quintile 1: MSE = 0.0508, RMSE = 0.2254, R² = -62.6653, % Within ±30% = 3.19%\n",
      "Quintile 2: MSE = 0.0347, RMSE = 0.1862, R² = 0.0000, % Within ±30% = 4.40%\n",
      "Quintile 3: MSE = 0.0349, RMSE = 0.1869, R² = -18.5801, % Within ±30% = 23.60%\n",
      "Quintile 4: MSE = 0.0563, RMSE = 0.2372, R² = -1.6093, % Within ±30% = 37.60%\n",
      "Quintile 5: MSE = 0.2531, RMSE = 0.5031, R² = 0.1970, % Within ±30% = 52.99%\n"
     ]
    },
    {
     "name": "stderr",
     "output_type": "stream",
     "text": [
      "XGBoost Parameter Tuning:   2%|█▎                                                  | 32/1280 [05:49<4:47:04, 13.80s/it]"
     ]
    },
    {
     "name": "stdout",
     "output_type": "stream",
     "text": [
      "\n",
      "New best % Within ±30%: 24.76% with parameters: {'max_depth': 4, 'learning_rate': 0.03, 'n_estimators': 200, 'subsample': 0.85, 'colsample_bytree': 1.0}\n",
      "Overall Test R²: 0.7571\n",
      "\n",
      "Quintile-based Performance for Current Best Model:\n",
      "Quintile 1: MSE = 0.0506, RMSE = 0.2250, R² = -62.4576, % Within ±30% = 1.20%\n",
      "Quintile 2: MSE = 0.0356, RMSE = 0.1888, R² = 0.0000, % Within ±30% = 3.60%\n",
      "Quintile 3: MSE = 0.0281, RMSE = 0.1676, R² = -14.7331, % Within ±30% = 24.80%\n",
      "Quintile 4: MSE = 0.0537, RMSE = 0.2317, R² = -1.4901, % Within ±30% = 37.20%\n",
      "Quintile 5: MSE = 0.2559, RMSE = 0.5058, R² = 0.1883, % Within ±30% = 56.97%\n"
     ]
    },
    {
     "name": "stderr",
     "output_type": "stream",
     "text": [
      "XGBoost Parameter Tuning:   3%|█▎                                                  | 33/1280 [06:04<4:57:21, 14.31s/it]"
     ]
    },
    {
     "name": "stdout",
     "output_type": "stream",
     "text": [
      "\n",
      "New best % Within ±30%: 25.80% with parameters: {'max_depth': 4, 'learning_rate': 0.03, 'n_estimators': 250, 'subsample': 0.7, 'colsample_bytree': 0.7}\n",
      "Overall Test R²: 0.7699\n",
      "\n",
      "Quintile-based Performance for Current Best Model:\n",
      "Quintile 1: MSE = 0.0499, RMSE = 0.2234, R² = -61.5626, % Within ±30% = 7.17%\n",
      "Quintile 2: MSE = 0.0403, RMSE = 0.2007, R² = 0.0000, % Within ±30% = 5.20%\n",
      "Quintile 3: MSE = 0.0249, RMSE = 0.1578, R² = -12.9539, % Within ±30% = 25.20%\n",
      "Quintile 4: MSE = 0.0515, RMSE = 0.2268, R² = -1.3865, % Within ±30% = 34.80%\n",
      "Quintile 5: MSE = 0.2351, RMSE = 0.4848, R² = 0.2543, % Within ±30% = 56.57%\n"
     ]
    },
    {
     "name": "stderr",
     "output_type": "stream",
     "text": [
      "XGBoost Parameter Tuning:   3%|█▍                                                  | 35/1280 [06:36<5:16:03, 15.23s/it]"
     ]
    },
    {
     "name": "stdout",
     "output_type": "stream",
     "text": [
      "\n",
      "New best % Within ±30%: 25.96% with parameters: {'max_depth': 4, 'learning_rate': 0.03, 'n_estimators': 250, 'subsample': 0.7, 'colsample_bytree': 0.9}\n",
      "Overall Test R²: 0.7765\n",
      "\n",
      "Quintile-based Performance for Current Best Model:\n",
      "Quintile 1: MSE = 0.0430, RMSE = 0.2075, R² = -52.9597, % Within ±30% = 3.59%\n",
      "Quintile 2: MSE = 0.0373, RMSE = 0.1931, R² = 0.0000, % Within ±30% = 6.40%\n",
      "Quintile 3: MSE = 0.0314, RMSE = 0.1771, R² = -16.5768, % Within ±30% = 26.00%\n",
      "Quintile 4: MSE = 0.0528, RMSE = 0.2298, R² = -1.4497, % Within ±30% = 37.60%\n",
      "Quintile 5: MSE = 0.2255, RMSE = 0.4749, R² = 0.2845, % Within ±30% = 56.18%\n"
     ]
    },
    {
     "name": "stderr",
     "output_type": "stream",
     "text": [
      "XGBoost Parameter Tuning:   3%|█▍                                                  | 36/1280 [06:53<5:24:36, 15.66s/it]"
     ]
    },
    {
     "name": "stdout",
     "output_type": "stream",
     "text": [
      "\n",
      "New best % Within ±30%: 26.76% with parameters: {'max_depth': 4, 'learning_rate': 0.03, 'n_estimators': 250, 'subsample': 0.7, 'colsample_bytree': 1.0}\n",
      "Overall Test R²: 0.7778\n",
      "\n",
      "Quintile-based Performance for Current Best Model:\n",
      "Quintile 1: MSE = 0.0446, RMSE = 0.2113, R² = -54.9666, % Within ±30% = 3.98%\n",
      "Quintile 2: MSE = 0.0404, RMSE = 0.2011, R² = 0.0000, % Within ±30% = 10.00%\n",
      "Quintile 3: MSE = 0.0227, RMSE = 0.1506, R² = -11.7113, % Within ±30% = 28.40%\n",
      "Quintile 4: MSE = 0.0525, RMSE = 0.2291, R² = -1.4351, % Within ±30% = 34.40%\n",
      "Quintile 5: MSE = 0.2275, RMSE = 0.4770, R² = 0.2782, % Within ±30% = 56.97%\n"
     ]
    },
    {
     "name": "stderr",
     "output_type": "stream",
     "text": [
      "XGBoost Parameter Tuning:   4%|█▉                                                  | 48/1280 [10:00<5:18:28, 15.51s/it]"
     ]
    },
    {
     "name": "stdout",
     "output_type": "stream",
     "text": [
      "\n",
      "New best % Within ±30%: 27.24% with parameters: {'max_depth': 4, 'learning_rate': 0.03, 'n_estimators': 250, 'subsample': 0.85, 'colsample_bytree': 1.0}\n",
      "Overall Test R²: 0.7740\n",
      "\n",
      "Quintile-based Performance for Current Best Model:\n",
      "Quintile 1: MSE = 0.0506, RMSE = 0.2249, R² = -62.3889, % Within ±30% = 6.77%\n",
      "Quintile 2: MSE = 0.0291, RMSE = 0.1705, R² = 0.0000, % Within ±30% = 8.40%\n",
      "Quintile 3: MSE = 0.0296, RMSE = 0.1722, R² = -15.6109, % Within ±30% = 26.40%\n",
      "Quintile 4: MSE = 0.0522, RMSE = 0.2285, R² = -1.4211, % Within ±30% = 36.40%\n",
      "Quintile 5: MSE = 0.2330, RMSE = 0.4827, R² = 0.2609, % Within ±30% = 58.17%\n"
     ]
    },
    {
     "name": "stderr",
     "output_type": "stream",
     "text": [
      "XGBoost Parameter Tuning:   4%|██                                                  | 52/1280 [11:10<5:50:36, 17.13s/it]"
     ]
    },
    {
     "name": "stdout",
     "output_type": "stream",
     "text": [
      "\n",
      "New best % Within ±30%: 28.12% with parameters: {'max_depth': 4, 'learning_rate': 0.03, 'n_estimators': 300, 'subsample': 0.7, 'colsample_bytree': 1.0}\n",
      "Overall Test R²: 0.7886\n",
      "\n",
      "Quintile-based Performance for Current Best Model:\n",
      "Quintile 1: MSE = 0.0433, RMSE = 0.2082, R² = -53.3247, % Within ±30% = 9.16%\n",
      "Quintile 2: MSE = 0.0349, RMSE = 0.1868, R² = 0.0000, % Within ±30% = 10.00%\n",
      "Quintile 3: MSE = 0.0273, RMSE = 0.1651, R² = -14.2760, % Within ±30% = 27.60%\n",
      "Quintile 4: MSE = 0.0514, RMSE = 0.2268, R² = -1.3855, % Within ±30% = 34.80%\n",
      "Quintile 5: MSE = 0.2121, RMSE = 0.4605, R² = 0.3272, % Within ±30% = 58.96%\n"
     ]
    },
    {
     "name": "stderr",
     "output_type": "stream",
     "text": [
      "XGBoost Parameter Tuning:   5%|██▌                                                 | 63/1280 [14:21<5:53:08, 17.41s/it]"
     ]
    },
    {
     "name": "stdout",
     "output_type": "stream",
     "text": [
      "\n",
      "New best % Within ±30%: 28.35% with parameters: {'max_depth': 4, 'learning_rate': 0.03, 'n_estimators': 300, 'subsample': 0.85, 'colsample_bytree': 0.9}\n",
      "Overall Test R²: 0.7825\n",
      "\n",
      "Quintile-based Performance for Current Best Model:\n",
      "Quintile 1: MSE = 0.0458, RMSE = 0.2140, R² = -56.3904, % Within ±30% = 9.56%\n",
      "Quintile 2: MSE = 0.0384, RMSE = 0.1959, R² = 0.0000, % Within ±30% = 10.00%\n",
      "Quintile 3: MSE = 0.0272, RMSE = 0.1648, R² = -14.2185, % Within ±30% = 28.80%\n",
      "Quintile 4: MSE = 0.0537, RMSE = 0.2317, R² = -1.4897, % Within ±30% = 34.40%\n",
      "Quintile 5: MSE = 0.2146, RMSE = 0.4633, R² = 0.3192, % Within ±30% = 58.96%\n"
     ]
    },
    {
     "name": "stderr",
     "output_type": "stream",
     "text": [
      "XGBoost Parameter Tuning:   5%|██▌                                                 | 64/1280 [14:39<5:56:42, 17.60s/it]"
     ]
    },
    {
     "name": "stdout",
     "output_type": "stream",
     "text": [
      "\n",
      "New best % Within ±30%: 28.43% with parameters: {'max_depth': 4, 'learning_rate': 0.03, 'n_estimators': 300, 'subsample': 0.85, 'colsample_bytree': 1.0}\n",
      "Overall Test R²: 0.7848\n",
      "\n",
      "Quintile-based Performance for Current Best Model:\n",
      "Quintile 1: MSE = 0.0454, RMSE = 0.2132, R² = -55.9743, % Within ±30% = 5.98%\n",
      "Quintile 2: MSE = 0.0389, RMSE = 0.1973, R² = 0.0000, % Within ±30% = 14.40%\n",
      "Quintile 3: MSE = 0.0223, RMSE = 0.1493, R² = -11.4973, % Within ±30% = 26.80%\n",
      "Quintile 4: MSE = 0.0507, RMSE = 0.2252, R² = -1.3525, % Within ±30% = 36.40%\n",
      "Quintile 5: MSE = 0.2182, RMSE = 0.4671, R² = 0.3079, % Within ±30% = 58.57%\n"
     ]
    },
    {
     "name": "stderr",
     "output_type": "stream",
     "text": [
      "XGBoost Parameter Tuning:   7%|███▍                                                | 84/1280 [17:56<3:48:49, 11.48s/it]"
     ]
    },
    {
     "name": "stdout",
     "output_type": "stream",
     "text": [
      "\n",
      "New best % Within ±30%: 28.99% with parameters: {'max_depth': 4, 'learning_rate': 0.05, 'n_estimators': 200, 'subsample': 0.7, 'colsample_bytree': 1.0}\n",
      "Overall Test R²: 0.7918\n",
      "\n",
      "Quintile-based Performance for Current Best Model:\n",
      "Quintile 1: MSE = 0.0486, RMSE = 0.2204, R² = -59.9137, % Within ±30% = 10.36%\n",
      "Quintile 2: MSE = 0.0367, RMSE = 0.1915, R² = 0.0000, % Within ±30% = 12.80%\n",
      "Quintile 3: MSE = 0.0258, RMSE = 0.1606, R² = -13.4586, % Within ±30% = 25.60%\n",
      "Quintile 4: MSE = 0.0511, RMSE = 0.2260, R² = -1.3696, % Within ±30% = 36.40%\n",
      "Quintile 5: MSE = 0.2012, RMSE = 0.4485, R² = 0.3617, % Within ±30% = 59.76%\n"
     ]
    },
    {
     "name": "stderr",
     "output_type": "stream",
     "text": [
      "XGBoost Parameter Tuning:   7%|███▋                                                | 90/1280 [19:08<3:56:15, 11.91s/it]"
     ]
    },
    {
     "name": "stdout",
     "output_type": "stream",
     "text": [
      "\n",
      "New best % Within ±30%: 29.71% with parameters: {'max_depth': 4, 'learning_rate': 0.05, 'n_estimators': 200, 'subsample': 0.8, 'colsample_bytree': 0.8}\n",
      "Overall Test R²: 0.7965\n",
      "\n",
      "Quintile-based Performance for Current Best Model:\n",
      "Quintile 1: MSE = 0.0445, RMSE = 0.2111, R² = -54.8465, % Within ±30% = 11.55%\n",
      "Quintile 2: MSE = 0.0366, RMSE = 0.1913, R² = 0.0000, % Within ±30% = 14.40%\n",
      "Quintile 3: MSE = 0.0281, RMSE = 0.1676, R² = -14.7359, % Within ±30% = 26.80%\n",
      "Quintile 4: MSE = 0.0490, RMSE = 0.2213, R² = -1.2724, % Within ±30% = 36.00%\n",
      "Quintile 5: MSE = 0.1971, RMSE = 0.4440, R² = 0.3747, % Within ±30% = 59.76%\n"
     ]
    },
    {
     "name": "stderr",
     "output_type": "stream",
     "text": [
      "XGBoost Parameter Tuning:   8%|███▉                                               | 100/1280 [21:19<4:39:16, 14.20s/it]"
     ]
    },
    {
     "name": "stdout",
     "output_type": "stream",
     "text": [
      "\n",
      "New best % Within ±30%: 31.07% with parameters: {'max_depth': 4, 'learning_rate': 0.05, 'n_estimators': 250, 'subsample': 0.7, 'colsample_bytree': 1.0}\n",
      "Overall Test R²: 0.8026\n",
      "\n",
      "Quintile-based Performance for Current Best Model:\n",
      "Quintile 1: MSE = 0.0494, RMSE = 0.2223, R² = -60.9581, % Within ±30% = 10.76%\n",
      "Quintile 2: MSE = 0.0369, RMSE = 0.1920, R² = 0.0000, % Within ±30% = 18.00%\n",
      "Quintile 3: MSE = 0.0211, RMSE = 0.1451, R² = -10.8015, % Within ±30% = 30.00%\n",
      "Quintile 4: MSE = 0.0501, RMSE = 0.2237, R² = -1.3215, % Within ±30% = 35.20%\n",
      "Quintile 5: MSE = 0.1871, RMSE = 0.4326, R² = 0.4064, % Within ±30% = 61.35%\n"
     ]
    },
    {
     "name": "stderr",
     "output_type": "stream",
     "text": [
      "XGBoost Parameter Tuning:   9%|████▌                                              | 113/1280 [24:33<5:01:13, 15.49s/it]"
     ]
    },
    {
     "name": "stdout",
     "output_type": "stream",
     "text": [
      "\n",
      "New best % Within ±30%: 31.31% with parameters: {'max_depth': 4, 'learning_rate': 0.05, 'n_estimators': 300, 'subsample': 0.7, 'colsample_bytree': 0.7}\n",
      "Overall Test R²: 0.8034\n",
      "\n",
      "Quintile-based Performance for Current Best Model:\n",
      "Quintile 1: MSE = 0.0487, RMSE = 0.2207, R² = -60.0781, % Within ±30% = 8.76%\n",
      "Quintile 2: MSE = 0.0317, RMSE = 0.1781, R² = 0.0000, % Within ±30% = 18.40%\n",
      "Quintile 3: MSE = 0.0292, RMSE = 0.1709, R² = -15.3711, % Within ±30% = 28.00%\n",
      "Quintile 4: MSE = 0.0467, RMSE = 0.2161, R² = -1.1659, % Within ±30% = 38.40%\n",
      "Quintile 5: MSE = 0.1868, RMSE = 0.4322, R² = 0.4075, % Within ±30% = 62.95%\n"
     ]
    },
    {
     "name": "stderr",
     "output_type": "stream",
     "text": [
      "XGBoost Parameter Tuning:   9%|████▌                                              | 115/1280 [25:08<5:23:01, 16.64s/it]"
     ]
    },
    {
     "name": "stdout",
     "output_type": "stream",
     "text": [
      "\n",
      "New best % Within ±30%: 32.35% with parameters: {'max_depth': 4, 'learning_rate': 0.05, 'n_estimators': 300, 'subsample': 0.7, 'colsample_bytree': 0.9}\n",
      "Overall Test R²: 0.8058\n",
      "\n",
      "Quintile-based Performance for Current Best Model:\n",
      "Quintile 1: MSE = 0.0454, RMSE = 0.2132, R² = -55.9608, % Within ±30% = 14.74%\n",
      "Quintile 2: MSE = 0.0358, RMSE = 0.1892, R² = 0.0000, % Within ±30% = 14.80%\n",
      "Quintile 3: MSE = 0.0253, RMSE = 0.1591, R² = -13.1799, % Within ±30% = 33.20%\n",
      "Quintile 4: MSE = 0.0496, RMSE = 0.2228, R² = -1.3017, % Within ±30% = 38.00%\n",
      "Quintile 5: MSE = 0.1828, RMSE = 0.4275, R² = 0.4201, % Within ±30% = 60.96%\n"
     ]
    },
    {
     "name": "stderr",
     "output_type": "stream",
     "text": [
      "XGBoost Parameter Tuning:   9%|████▌                                              | 116/1280 [25:27<5:31:41, 17.10s/it]"
     ]
    },
    {
     "name": "stdout",
     "output_type": "stream",
     "text": [
      "\n",
      "New best % Within ±30%: 32.75% with parameters: {'max_depth': 4, 'learning_rate': 0.05, 'n_estimators': 300, 'subsample': 0.7, 'colsample_bytree': 1.0}\n",
      "Overall Test R²: 0.8095\n",
      "\n",
      "Quintile-based Performance for Current Best Model:\n",
      "Quintile 1: MSE = 0.0434, RMSE = 0.2084, R² = -53.4509, % Within ±30% = 13.15%\n",
      "Quintile 2: MSE = 0.0363, RMSE = 0.1905, R² = 0.0000, % Within ±30% = 20.00%\n",
      "Quintile 3: MSE = 0.0263, RMSE = 0.1620, R² = -13.7143, % Within ±30% = 32.80%\n",
      "Quintile 4: MSE = 0.0490, RMSE = 0.2214, R² = -1.2745, % Within ±30% = 34.80%\n",
      "Quintile 5: MSE = 0.1775, RMSE = 0.4213, R² = 0.4369, % Within ±30% = 62.95%\n"
     ]
    },
    {
     "name": "stderr",
     "output_type": "stream",
     "text": [
      "XGBoost Parameter Tuning:  13%|██████▍                                            | 161/1280 [34:52<3:59:03, 12.82s/it]"
     ]
    },
    {
     "name": "stdout",
     "output_type": "stream",
     "text": [
      "\n",
      "New best % Within ±30%: 32.91% with parameters: {'max_depth': 4, 'learning_rate': 0.07, 'n_estimators': 250, 'subsample': 0.7, 'colsample_bytree': 0.7}\n",
      "Overall Test R²: 0.8028\n",
      "\n",
      "Quintile-based Performance for Current Best Model:\n",
      "Quintile 1: MSE = 0.0410, RMSE = 0.2024, R² = -50.3360, % Within ±30% = 12.35%\n",
      "Quintile 2: MSE = 0.0390, RMSE = 0.1975, R² = 0.0000, % Within ±30% = 19.60%\n",
      "Quintile 3: MSE = 0.0340, RMSE = 0.1845, R² = -18.0703, % Within ±30% = 30.40%\n",
      "Quintile 4: MSE = 0.0463, RMSE = 0.2151, R² = -1.1461, % Within ±30% = 38.00%\n",
      "Quintile 5: MSE = 0.1840, RMSE = 0.4289, R² = 0.4163, % Within ±30% = 64.14%\n"
     ]
    },
    {
     "name": "stderr",
     "output_type": "stream",
     "text": [
      "XGBoost Parameter Tuning:  13%|██████▌                                            | 164/1280 [35:37<4:25:48, 14.29s/it]"
     ]
    },
    {
     "name": "stdout",
     "output_type": "stream",
     "text": [
      "\n",
      "New best % Within ±30%: 34.19% with parameters: {'max_depth': 4, 'learning_rate': 0.07, 'n_estimators': 250, 'subsample': 0.7, 'colsample_bytree': 1.0}\n",
      "Overall Test R²: 0.8031\n",
      "\n",
      "Quintile-based Performance for Current Best Model:\n",
      "Quintile 1: MSE = 0.0471, RMSE = 0.2171, R² = -58.0873, % Within ±30% = 9.96%\n",
      "Quintile 2: MSE = 0.0358, RMSE = 0.1891, R² = 0.0000, % Within ±30% = 24.00%\n",
      "Quintile 3: MSE = 0.0321, RMSE = 0.1791, R² = -16.9685, % Within ±30% = 34.00%\n",
      "Quintile 4: MSE = 0.0510, RMSE = 0.2259, R² = -1.3658, % Within ±30% = 37.60%\n",
      "Quintile 5: MSE = 0.1778, RMSE = 0.4217, R² = 0.4360, % Within ±30% = 65.34%\n"
     ]
    },
    {
     "name": "stderr",
     "output_type": "stream",
     "text": [
      "XGBoost Parameter Tuning:  14%|███████▏                                           | 180/1280 [39:45<5:13:03, 17.08s/it]"
     ]
    },
    {
     "name": "stdout",
     "output_type": "stream",
     "text": [
      "\n",
      "New best % Within ±30%: 34.82% with parameters: {'max_depth': 4, 'learning_rate': 0.07, 'n_estimators': 300, 'subsample': 0.7, 'colsample_bytree': 1.0}\n",
      "Overall Test R²: 0.8078\n",
      "\n",
      "Quintile-based Performance for Current Best Model:\n",
      "Quintile 1: MSE = 0.0534, RMSE = 0.2311, R² = -65.9270, % Within ±30% = 14.34%\n",
      "Quintile 2: MSE = 0.0336, RMSE = 0.1833, R² = 0.0000, % Within ±30% = 21.20%\n",
      "Quintile 3: MSE = 0.0272, RMSE = 0.1649, R² = -14.2343, % Within ±30% = 32.00%\n",
      "Quintile 4: MSE = 0.0493, RMSE = 0.2221, R² = -1.2883, % Within ±30% = 39.60%\n",
      "Quintile 5: MSE = 0.1721, RMSE = 0.4148, R² = 0.4542, % Within ±30% = 66.93%\n"
     ]
    },
    {
     "name": "stderr",
     "output_type": "stream",
     "text": [
      "XGBoost Parameter Tuning:  18%|█████████                                          | 228/1280 [49:57<4:10:29, 14.29s/it]"
     ]
    },
    {
     "name": "stdout",
     "output_type": "stream",
     "text": [
      "\n",
      "New best % Within ±30%: 35.06% with parameters: {'max_depth': 4, 'learning_rate': 0.1, 'n_estimators': 250, 'subsample': 0.7, 'colsample_bytree': 1.0}\n",
      "Overall Test R²: 0.8092\n",
      "\n",
      "Quintile-based Performance for Current Best Model:\n",
      "Quintile 1: MSE = 0.0494, RMSE = 0.2223, R² = -60.9426, % Within ±30% = 13.94%\n",
      "Quintile 2: MSE = 0.0379, RMSE = 0.1948, R² = 0.0000, % Within ±30% = 24.80%\n",
      "Quintile 3: MSE = 0.0248, RMSE = 0.1576, R² = -12.9164, % Within ±30% = 29.60%\n",
      "Quintile 4: MSE = 0.0506, RMSE = 0.2250, R² = -1.3480, % Within ±30% = 40.00%\n",
      "Quintile 5: MSE = 0.1702, RMSE = 0.4126, R² = 0.4600, % Within ±30% = 66.93%\n"
     ]
    },
    {
     "name": "stderr",
     "output_type": "stream",
     "text": [
      "XGBoost Parameter Tuning:  19%|█████████▉                                         | 248/1280 [55:16<5:04:01, 17.68s/it]"
     ]
    },
    {
     "name": "stdout",
     "output_type": "stream",
     "text": [
      "\n",
      "New best % Within ±30%: 35.30% with parameters: {'max_depth': 4, 'learning_rate': 0.1, 'n_estimators': 300, 'subsample': 0.75, 'colsample_bytree': 1.0}\n",
      "Overall Test R²: 0.8018\n",
      "\n",
      "Quintile-based Performance for Current Best Model:\n",
      "Quintile 1: MSE = 0.0460, RMSE = 0.2144, R² = -56.6169, % Within ±30% = 19.12%\n",
      "Quintile 2: MSE = 0.0469, RMSE = 0.2166, R² = 0.0000, % Within ±30% = 21.60%\n",
      "Quintile 3: MSE = 0.0274, RMSE = 0.1655, R² = -14.3452, % Within ±30% = 28.80%\n",
      "Quintile 4: MSE = 0.0507, RMSE = 0.2251, R² = -1.3508, % Within ±30% = 43.60%\n",
      "Quintile 5: MSE = 0.1751, RMSE = 0.4184, R² = 0.4446, % Within ±30% = 63.35%\n"
     ]
    },
    {
     "name": "stderr",
     "output_type": "stream",
     "text": [
      "XGBoost Parameter Tuning:  30%|██████████████▌                                  | 382/1280 [1:37:28<6:16:23, 25.15s/it]"
     ]
    },
    {
     "name": "stdout",
     "output_type": "stream",
     "text": [
      "\n",
      "New best % Within ±30%: 35.94% with parameters: {'max_depth': 5, 'learning_rate': 0.05, 'n_estimators': 300, 'subsample': 0.85, 'colsample_bytree': 0.8}\n",
      "Overall Test R²: 0.8114\n",
      "\n",
      "Quintile-based Performance for Current Best Model:\n",
      "Quintile 1: MSE = 0.0413, RMSE = 0.2031, R² = -50.7133, % Within ±30% = 15.14%\n",
      "Quintile 2: MSE = 0.0315, RMSE = 0.1775, R² = 0.0000, % Within ±30% = 20.00%\n",
      "Quintile 3: MSE = 0.0273, RMSE = 0.1653, R² = -14.3192, % Within ±30% = 36.40%\n",
      "Quintile 4: MSE = 0.0436, RMSE = 0.2087, R² = -1.0200, % Within ±30% = 42.80%\n",
      "Quintile 5: MSE = 0.1857, RMSE = 0.4309, R² = 0.4110, % Within ±30% = 65.34%\n"
     ]
    },
    {
     "name": "stderr",
     "output_type": "stream",
     "text": [
      "XGBoost Parameter Tuning:  37%|█████████████████▉                               | 468/1280 [2:03:36<3:44:06, 16.56s/it]"
     ]
    },
    {
     "name": "stdout",
     "output_type": "stream",
     "text": [
      "\n",
      "New best % Within ±30%: 36.34% with parameters: {'max_depth': 5, 'learning_rate': 0.1, 'n_estimators': 200, 'subsample': 0.7, 'colsample_bytree': 1.0}\n",
      "Overall Test R²: 0.8062\n",
      "\n",
      "Quintile-based Performance for Current Best Model:\n",
      "Quintile 1: MSE = 0.0373, RMSE = 0.1931, R² = -45.7376, % Within ±30% = 17.93%\n",
      "Quintile 2: MSE = 0.0378, RMSE = 0.1945, R² = 0.0000, % Within ±30% = 23.60%\n",
      "Quintile 3: MSE = 0.0306, RMSE = 0.1748, R² = -16.1292, % Within ±30% = 29.20%\n",
      "Quintile 4: MSE = 0.0491, RMSE = 0.2216, R² = -1.2769, % Within ±30% = 41.20%\n",
      "Quintile 5: MSE = 0.1836, RMSE = 0.4285, R² = 0.4174, % Within ±30% = 69.72%\n"
     ]
    },
    {
     "name": "stderr",
     "output_type": "stream",
     "text": [
      "XGBoost Parameter Tuning:  38%|██████████████████▍                              | 482/1280 [2:07:46<4:16:46, 19.31s/it]"
     ]
    },
    {
     "name": "stdout",
     "output_type": "stream",
     "text": [
      "\n",
      "New best % Within ±30%: 36.50% with parameters: {'max_depth': 5, 'learning_rate': 0.1, 'n_estimators': 250, 'subsample': 0.7, 'colsample_bytree': 0.8}\n",
      "Overall Test R²: 0.8052\n",
      "\n",
      "Quintile-based Performance for Current Best Model:\n",
      "Quintile 1: MSE = 0.0457, RMSE = 0.2137, R² = -56.2622, % Within ±30% = 13.15%\n",
      "Quintile 2: MSE = 0.0392, RMSE = 0.1981, R² = 0.0000, % Within ±30% = 21.60%\n",
      "Quintile 3: MSE = 0.0274, RMSE = 0.1655, R² = -14.3417, % Within ±30% = 33.60%\n",
      "Quintile 4: MSE = 0.0450, RMSE = 0.2121, R² = -1.0864, % Within ±30% = 47.20%\n",
      "Quintile 5: MSE = 0.1828, RMSE = 0.4276, R² = 0.4199, % Within ±30% = 66.93%\n"
     ]
    },
    {
     "name": "stderr",
     "output_type": "stream",
     "text": [
      "XGBoost Parameter Tuning:  39%|███████████████████                              | 498/1280 [2:13:39<5:04:47, 23.39s/it]"
     ]
    },
    {
     "name": "stdout",
     "output_type": "stream",
     "text": [
      "\n",
      "New best % Within ±30%: 36.82% with parameters: {'max_depth': 5, 'learning_rate': 0.1, 'n_estimators': 300, 'subsample': 0.7, 'colsample_bytree': 0.8}\n",
      "Overall Test R²: 0.8060\n",
      "\n",
      "Quintile-based Performance for Current Best Model:\n",
      "Quintile 1: MSE = 0.0489, RMSE = 0.2211, R² = -60.2720, % Within ±30% = 14.34%\n",
      "Quintile 2: MSE = 0.0341, RMSE = 0.1846, R² = 0.0000, % Within ±30% = 21.20%\n",
      "Quintile 3: MSE = 0.0294, RMSE = 0.1715, R² = -15.4798, % Within ±30% = 33.60%\n",
      "Quintile 4: MSE = 0.0446, RMSE = 0.2112, R² = -1.0695, % Within ±30% = 47.60%\n",
      "Quintile 5: MSE = 0.1817, RMSE = 0.4263, R² = 0.4236, % Within ±30% = 67.33%\n"
     ]
    },
    {
     "name": "stderr",
     "output_type": "stream",
     "text": [
      "XGBoost Parameter Tuning:  55%|██████████████████████████▋                      | 698/1280 [3:51:41<6:24:25, 39.63s/it]"
     ]
    },
    {
     "name": "stdout",
     "output_type": "stream",
     "text": [
      "\n",
      "New best % Within ±30%: 37.14% with parameters: {'max_depth': 6, 'learning_rate': 0.07, 'n_estimators': 300, 'subsample': 0.8, 'colsample_bytree': 0.8}\n",
      "Overall Test R²: 0.8007\n",
      "\n",
      "Quintile-based Performance for Current Best Model:\n",
      "Quintile 1: MSE = 0.0410, RMSE = 0.2024, R² = -50.3534, % Within ±30% = 17.93%\n",
      "Quintile 2: MSE = 0.0301, RMSE = 0.1734, R² = 0.0000, % Within ±30% = 22.00%\n",
      "Quintile 3: MSE = 0.0254, RMSE = 0.1594, R² = -13.2381, % Within ±30% = 38.40%\n",
      "Quintile 4: MSE = 0.0464, RMSE = 0.2155, R² = -1.1534, % Within ±30% = 45.60%\n",
      "Quintile 5: MSE = 0.2050, RMSE = 0.4527, R² = 0.3498, % Within ±30% = 61.75%\n"
     ]
    },
    {
     "name": "stderr",
     "output_type": "stream",
     "text": [
      "XGBoost Parameter Tuning:  90%|██████████████████████████████████████████▍    | 1157/1280 [11:14:20<2:39:35, 77.85s/it]"
     ]
    }
   ],
   "source": [
    "import xgboost as xgb\n",
    "from sklearn.model_selection import train_test_split, KFold\n",
    "from sklearn.metrics import mean_squared_error, r2_score\n",
    "from tqdm import tqdm\n",
    "import numpy as np\n",
    "import pandas as pd\n",
    "import itertools\n",
    "\n",
    "# Assume `df_pca` is your PCA-transformed feature DataFrame and `y` is the target variable\n",
    "X = df_pca  # Features from the PCA-transformed DataFrame\n",
    "y = df['average_forever_playtime']  # Target variable\n",
    "\n",
    "# Split the data into training and testing sets\n",
    "X_train, X_test, y_train, y_test = train_test_split(X, y, test_size=0.2, random_state=42)\n",
    "\n",
    "# Expanded XGBoost parameter grid\n",
    "param_grid = {\n",
    "    'max_depth': [4, 5, 6, 7, 8],               # Added depth levels for even more flexibility\n",
    "    'learning_rate': [0.03, 0.05, 0.07, 0.1],   # Comprehensive learning rates\n",
    "    'n_estimators': [150, 200, 250, 300],       # A solid range for boosting rounds\n",
    "    'subsample': [0.7, 0.75, 0.8, 0.85],        # Expanded range for subsampling rates\n",
    "    'colsample_bytree': [0.7, 0.8, 0.9, 1.0]    # More variety in feature sampling fractions\n",
    "}\n",
    "\n",
    "# Generate all combinations of parameters\n",
    "param_combinations = list(itertools.product(*param_grid.values()))\n",
    "\n",
    "# Initialize tracking variables for the best model\n",
    "best_model = None\n",
    "best_mse = float('inf')\n",
    "best_params = None\n",
    "best_quintile_metrics = None\n",
    "best_overall_percent_within_30 = 0\n",
    "\n",
    "# Set up K-Fold Cross-Validation\n",
    "kfold = KFold(n_splits=5, shuffle=True, random_state=42)  # 5-folds for efficiency\n",
    "\n",
    "# Function to calculate percentage within ±30% of actual values\n",
    "def percentage_within_threshold(y_true, y_pred, threshold=0.3):\n",
    "    return np.mean(np.abs((y_true - y_pred) / y_true) <= threshold) * 100\n",
    "\n",
    "# Iterate over each parameter combination with a progress bar\n",
    "for param_comb in tqdm(param_combinations, desc=\"XGBoost Parameter Tuning\"):\n",
    "    params = dict(zip(param_grid.keys(), param_comb))\n",
    "    fold_mses = []\n",
    "    \n",
    "    # Perform cross-validation manually due to tqdm for tracking\n",
    "    for train_idx, val_idx in kfold.split(X_train):\n",
    "        X_train_fold, X_val_fold = X_train.iloc[train_idx], X_train.iloc[val_idx]\n",
    "        y_train_fold, y_val_fold = y_train.iloc[train_idx], y_train.iloc[val_idx]\n",
    "        \n",
    "        # Initialize and train the XGBoost model\n",
    "        model = xgb.XGBRegressor(objective='reg:squarederror', random_state=42, **params)\n",
    "        model.fit(X_train_fold, y_train_fold)\n",
    "        \n",
    "        # Predictions and evaluation on the validation fold\n",
    "        y_val_pred = model.predict(X_val_fold)\n",
    "        mse = mean_squared_error(y_val_fold, y_val_pred)\n",
    "        fold_mses.append(mse)\n",
    "    \n",
    "    # Average MSE across folds\n",
    "    avg_mse = np.mean(fold_mses)\n",
    "    \n",
    "    # Calculate overall performance on the test set\n",
    "    y_test_pred = model.predict(X_test)\n",
    "    overall_percent_within_30 = percentage_within_threshold(y_test, y_test_pred)\n",
    "\n",
    "    # Update the best model if the overall % within ±30% improves\n",
    "    if overall_percent_within_30 > best_overall_percent_within_30:\n",
    "        best_overall_percent_within_30 = overall_percent_within_30\n",
    "        best_mse = avg_mse\n",
    "        best_model = model\n",
    "        best_params = params\n",
    "        \n",
    "        # Calculate quintile-based performance on the test set\n",
    "        quintiles = pd.qcut(y_test + np.random.normal(0, 1e-5, size=len(y_test)), 5, labels=False, duplicates='drop')\n",
    "        quintile_metrics = {}\n",
    "        for q in range(5):  # Loop over 5 quintiles\n",
    "            q_indices = (quintiles == q)\n",
    "            y_q_true = y_test[q_indices]\n",
    "            y_q_pred = y_test_pred[q_indices]\n",
    "            \n",
    "            # Calculate MSE, RMSE, R², and % within ±30% for each quintile\n",
    "            q_mse = mean_squared_error(y_q_true, y_q_pred)\n",
    "            q_rmse = np.sqrt(q_mse)\n",
    "            q_r2 = r2_score(y_q_true, y_q_pred)\n",
    "            q_percentage_within_30 = percentage_within_threshold(y_q_true, y_q_pred)\n",
    "            \n",
    "            # Store metrics in a dictionary\n",
    "            quintile_metrics[f'Quintile {q+1}'] = {\n",
    "                'MSE': q_mse,\n",
    "                'RMSE': q_rmse,\n",
    "                'R²': q_r2,\n",
    "                '% Within ±30%': q_percentage_within_30\n",
    "            }\n",
    "        \n",
    "        best_quintile_metrics = quintile_metrics\n",
    "        test_r2 = best_model.score(X_test, y_test)  # Calculate overall R²\n",
    "\n",
    "        # Display the current best results\n",
    "        print(f\"\\nNew best % Within ±30%: {best_overall_percent_within_30:.2f}% with parameters: {best_params}\")\n",
    "        print(f\"Overall Test R²: {test_r2:.4f}\")\n",
    "        print(\"\\nQuintile-based Performance for Current Best Model:\")\n",
    "        for quintile, metrics in best_quintile_metrics.items():\n",
    "            print(f\"{quintile}: MSE = {metrics['MSE']:.4f}, RMSE = {metrics['RMSE']:.4f}, R² = {metrics['R²']:.4f}, % Within ±30% = {metrics['% Within ±30%']:.2f}%\")\n",
    "\n",
    "# Final evaluation on the test set with the best model\n",
    "y_test_pred = best_model.predict(X_test)\n",
    "test_mse = mean_squared_error(y_test, y_test_pred)\n",
    "test_rmse = np.sqrt(test_mse)\n",
    "test_r2 = best_model.score(X_test, y_test)\n",
    "\n",
    "print(f\"\\nBest Parameters for XGBoost: {best_params}\")\n",
    "print(\"Test MSE:\", test_mse)\n",
    "print(\"Test RMSE:\", test_rmse)\n",
    "print(\"Test R² Score:\", test_r2)\n",
    "print(f\"\\nFinal Overall % Within ±30%: {best_overall_percent_within_30:.2f}%\")\n",
    "\n",
    "print(\"Final Quintile-based Performance for Best Model:\")\n",
    "for quintile, metrics in best_quintile_metrics.items():à\n",
    "    print(f\"{quintile}: MSE = {metrics['MSE']:.4f}, RMSE = {metrics['RMSE']:.4f}, R² = {metrics['R²']:.4f}, % Within ±30% = {metrics['% Within ±30%']:.2f}%\")\n"
   ]
  },
  {
   "cell_type": "code",
   "execution_count": null,
   "metadata": {},
   "outputs": [],
   "source": []
  }
 ],
 "metadata": {
  "colab": {
   "provenance": []
  },
  "kernelspec": {
   "display_name": "Python 3 (ipykernel)",
   "language": "python",
   "name": "python3"
  },
  "language_info": {
   "codemirror_mode": {
    "name": "ipython",
    "version": 3
   },
   "file_extension": ".py",
   "mimetype": "text/x-python",
   "name": "python",
   "nbconvert_exporter": "python",
   "pygments_lexer": "ipython3",
   "version": "3.12.7"
  }
 },
 "nbformat": 4,
 "nbformat_minor": 4
}
